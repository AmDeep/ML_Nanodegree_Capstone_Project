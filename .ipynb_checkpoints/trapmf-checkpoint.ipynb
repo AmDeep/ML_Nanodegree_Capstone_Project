{
 "cells": [
  {
   "cell_type": "markdown",
   "metadata": {},
   "source": [
    "# trapmf"
   ]
  },
  {
   "cell_type": "markdown",
   "metadata": {},
   "source": [
    "Triangular-shaped membership function"
   ]
  },
  {
   "cell_type": "markdown",
   "metadata": {},
   "source": [
    "## Syntax"
   ]
  },
  {
   "cell_type": "markdown",
   "metadata": {},
   "source": [
    "$y = \\text{trapmf} (x,[a, b, c, d])$"
   ]
  },
  {
   "cell_type": "markdown",
   "metadata": {},
   "source": [
    "## Description"
   ]
  },
  {
   "cell_type": "markdown",
   "metadata": {},
   "source": [
    "The trapezoidal curve is a function of a vector, $x$, and depends on four scalar parameters $a$, $b$, $c$, and $d$, as given by"
   ]
  },
  {
   "cell_type": "markdown",
   "metadata": {},
   "source": [
    "$\\begin{equation}\n",
    "    f(x;a,b,c)=\n",
    "    \\begin{cases}\n",
    "        (x - a)/(b - a), &\\text{for $a < x < b$}\\\\\n",
    "        1, &\\text{for $b \\leq x \\leq c$}\\\\\n",
    "        (x - c)/(b - c), &\\text{for $c < x < d$}\\\\\n",
    "        0, &\\text{otherwise.}\n",
    "    \\end{cases}\n",
    "\\end{equation}$\n",
    "\n",
    "$\\text{with $a \\leq b \\leq c \\leq d$}$"
   ]
  },
  {
   "cell_type": "markdown",
   "metadata": {},
   "source": [
    "The parameters $a$ and $d$ locate the “feet” of the trapezoid and the parameters $b$ and $c$ locate the “shoulders.”"
   ]
  },
  {
   "cell_type": "markdown",
   "metadata": {},
   "source": [
    "## Development"
   ]
  },
  {
   "cell_type": "markdown",
   "metadata": {},
   "source": [
    "The equation used is an adaptation of the Mendel [1] and Jang [2] equations.\n",
    "\n",
    "Jang considers the parameters $a < b \\leq c < d$.\n",
    "\n",
    "[trapmf.py](../fuzzylab/trapmf.py)"
   ]
  },
  {
   "cell_type": "markdown",
   "metadata": {
    "toc-hr-collapsed": true
   },
   "source": [
    "## Example"
   ]
  },
  {
   "cell_type": "code",
   "execution_count": null,
   "metadata": {},
   "outputs": [],
   "source": [
    "!pip install -U fuzzylab"
   ]
  },
  {
   "cell_type": "code",
   "execution_count": 2,
   "metadata": {},
   "outputs": [],
   "source": [
    "%matplotlib inline"
   ]
  },
  {
   "cell_type": "code",
   "execution_count": 3,
   "metadata": {},
   "outputs": [
    {
     "data": {
      "image/png": "[encoded data removed]",
      "text/plain": [
       "<Figure size 432x288 with 1 Axes>"
      ]
     },
     "metadata": {
      "needs_background": "light"
     },
     "output_type": "display_data"
    }
   ],
   "source": [
    "from matplotlib.pyplot import plot, xlabel, show\n",
    "from fuzzylab import linspace, trapmf\n",
    "\n",
    "x = linspace(0, 0.1, 10)\n",
    "y = trapmf(x, [1, 5, 7, 8])\n",
    "plot(x, y)\n",
    "xlabel('trimf, P = [1, 5, 7, 8]')\n",
    "show()"
   ]
  },
  {
   "cell_type": "markdown",
   "metadata": {},
   "source": [
    "## References"
   ]
  },
  {
   "cell_type": "markdown",
   "metadata": {},
   "source": [
    "[1] J. M. Mendel, Uncertain Rule-Based Fuzzy Systems, 2nd ed. Cham, Switzerland: Springer, 2017, p. 33.\n",
    "\n",
    "[2] J.-S. Jang, C.-T. Sun, and E. Mizutani, Neuro-Fuzzy and Soft Computing. Upper Saddle River, NJ: Prentice-Hall, 1997, p. 25."
   ]
  }
 ],
 "metadata": {
  "kernelspec": {
   "display_name": "Python 3",
   "language": "python",
   "name": "python3"
  },
  "language_info": {
   "codemirror_mode": {
    "name": "ipython",
    "version": 3
   },
   "file_extension": ".py",
   "mimetype": "text/x-python",
   "name": "python",
   "nbconvert_exporter": "python",
   "pygments_lexer": "ipython3",
   "version": "3.7.0"
  },
  "toc-autonumbering": false,
  "toc-showcode": true,
  "toc-showmarkdowntxt": false
 },
 "nbformat": 4,
 "nbformat_minor": 2
}
