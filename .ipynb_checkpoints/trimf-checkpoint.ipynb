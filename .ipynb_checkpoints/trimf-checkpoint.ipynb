{
 "cells": [
  {
   "cell_type": "markdown",
   "metadata": {},
   "source": [
    "# trimf"
   ]
  },
  {
   "cell_type": "markdown",
   "metadata": {},
   "source": [
    "Triangular-shaped membership function"
   ]
  },
  {
   "cell_type": "markdown",
   "metadata": {},
   "source": [
    "## Syntax"
   ]
  },
  {
   "cell_type": "markdown",
   "metadata": {},
   "source": [
    "$y = \\text{trimf$(x,[a, b, c])$}$"
   ]
  },
  {
   "cell_type": "markdown",
   "metadata": {},
   "source": [
    "## Description"
   ]
  },
  {
   "cell_type": "markdown",
   "metadata": {},
   "source": [
    "The triangular curve is a function of a vector, $x$, and depends on three scalar parameters $a$, $b$, and $c$, as given by"
   ]
  },
  {
   "cell_type": "markdown",
   "metadata": {},
   "source": [
    "$\\begin{equation}\n",
    "    f(x;a,b,c)=\n",
    "    \\begin{cases}\n",
    "        (x - a)/(b - a), &\\text{for $a < x < b$}\\\\\n",
    "        1, &\\text{for $x = b$}\\\\\n",
    "        (x - c)/(b - c), &\\text{for $b < x < c$}\\\\\n",
    "        0, &\\text{otherwise.}\n",
    "    \\end{cases}\n",
    "\\end{equation}$\n",
    "\n",
    "$\\text{with $a \\leq b \\leq c$}$"
   ]
  },
  {
   "cell_type": "markdown",
   "metadata": {},
   "source": [
    "The parameters $a$ and $c$ locate the “feet” of the triangle and the parameter $b$ locates the peak."
   ]
  },
  {
   "cell_type": "markdown",
   "metadata": {},
   "source": [
    "## Development"
   ]
  },
  {
   "cell_type": "markdown",
   "metadata": {},
   "source": [
    "The equation used is an adaptation of the Mendel [1] and Jang [2] equations.\n",
    "\n",
    "Jang considers the parameters $a < b < c$.\n",
    "\n",
    "Mendel considers $(x - c)/(b - c)$ for $b <= x <= c$ but $(x - c)/(b - c) = 0/0$ when $b = c$ \n",
    "\n",
    "[trimf.py](../fuzzylab/trimf.py)"
   ]
  },
  {
   "cell_type": "markdown",
   "metadata": {
    "toc-hr-collapsed": false
   },
   "source": [
    "## Example"
   ]
  },
  {
   "cell_type": "code",
   "execution_count": 1,
   "metadata": {},
   "outputs": [
    {
     "name": "stdout",
     "output_type": "stream",
     "text": [
      "Collecting fuzzylab\n",
      "  Using cached https://files.pythonhosted.org/packages/29/41/ddb94531c6906f1064634c01030a1ee78695da226438b14ee10e261eb800/fuzzylab-0.0.4-py3-none-any.whl\n",
      "Installing collected packages: fuzzylab\n",
      "Successfully installed fuzzylab-0.0.4\n"
     ]
    }
   ],
   "source": [
    "!pip install -U fuzzylab"
   ]
  },
  {
   "cell_type": "code",
   "execution_count": 2,
   "metadata": {},
   "outputs": [],
   "source": [
    "%matplotlib inline"
   ]
  },
  {
   "cell_type": "code",
   "execution_count": 6,
   "metadata": {},
   "outputs": [
    {
     "data": {
      "image/png": "[encoded data removed]",
      "text/plain": [
       "<Figure size 432x288 with 1 Axes>"
      ]
     },
     "metadata": {
      "needs_background": "light"
     },
     "output_type": "display_data"
    }
   ],
   "source": [
    "from matplotlib.pyplot import *\n",
    "from fuzzylab import *\n",
    "\n",
    "x = linspace(0, 0.1, 10)\n",
    "y = trimf(x, [3, 6, 8])\n",
    "plot(x, y)\n",
    "xlabel('trimf, P = [3, 6, 8]')\n",
    "show()"
   ]
  },
  {
   "cell_type": "markdown",
   "metadata": {},
   "source": [
    "## References"
   ]
  },
  {
   "cell_type": "markdown",
   "metadata": {},
   "source": [
    "[1] J. M. Mendel, Uncertain Rule-Based Fuzzy Systems, 2nd ed. Cham, Switzerland: Springer, 2017, p. 33.\n",
    "\n",
    "[2] J.-S. Jang, C.-T. Sun, and E. Mizutani, Neuro-Fuzzy and Soft Computing. Upper Saddle River, NJ: Prentice-Hall, 1997, p. 25."
   ]
  }
 ],
 "metadata": {
  "kernelspec": {
   "display_name": "Python 3",
   "language": "python",
   "name": "python3"
  },
  "language_info": {
   "codemirror_mode": {
    "name": "ipython",
    "version": 3
   },
   "file_extension": ".py",
   "mimetype": "text/x-python",
   "name": "python",
   "nbconvert_exporter": "python",
   "pygments_lexer": "ipython3",
   "version": "3.7.1"
  },
  "toc-autonumbering": false,
  "toc-showcode": true,
  "toc-showmarkdowntxt": true
 },
 "nbformat": 4,
 "nbformat_minor": 2
}
